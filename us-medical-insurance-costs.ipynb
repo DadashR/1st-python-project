{
 "cells": [
  {
   "cell_type": "markdown",
   "metadata": {},
   "source": [
    "# U.S. Medical Insurance Costs"
   ]
  },
  {
   "cell_type": "markdown",
   "metadata": {},
   "source": [
    "Hello everyone! This is my first project using Python! In this project, I will analyze U.S. Medical Insurance Costs and organize the information. I will also analyze the data to get some interesting info about certain things. Lets begin."
   ]
  },
  {
   "cell_type": "markdown",
   "metadata": {},
   "source": [
    "First, we should import the library \"csv\"."
   ]
  },
  {
   "cell_type": "code",
   "execution_count": 1,
   "metadata": {},
   "outputs": [],
   "source": [
    "import csv"
   ]
  },
  {
   "cell_type": "markdown",
   "metadata": {},
   "source": [
    "Then, we should create a function that imports the data and sorts it into lists we create beforehand."
   ]
  },
  {
   "cell_type": "code",
   "execution_count": 16,
   "metadata": {},
   "outputs": [],
   "source": [
    "age = []\n",
    "sex = []\n",
    "bmi = []\n",
    "children = []\n",
    "region = []\n",
    "charges = []\n",
    "\n",
    "def import_information(lst, csv_file, keyname):\n",
    "    with open(csv_file, 'r') as csvfile:\n",
    "        reader = csv.DictReader(csvfile)\n",
    "        for row in reader:\n",
    "            lst.append(row[keyname])\n",
    "\n",
    "# This function takes a csv file, a list and a name of a column.\n",
    "# Then, it imports every value in that column into the list."
   ]
  },
  {
   "cell_type": "markdown",
   "metadata": {},
   "source": [
    "Now, we can import the values into the lists."
   ]
  },
  {
   "cell_type": "code",
   "execution_count": 19,
   "metadata": {},
   "outputs": [],
   "source": [
    "import_information(age, 'insurance.csv', 'age')\n",
    "import_information(sex, 'insurance.csv', 'sex')\n",
    "import_information(bmi, 'insurance.csv', 'bmi')\n",
    "import_information(children, 'insurance.csv', 'children')\n",
    "import_information(region, 'insurance.csv', 'region')\n",
    "import_information(charges, 'insurance.csv', 'charges')\n"
   ]
  },
  {
   "cell_type": "markdown",
   "metadata": {},
   "source": []
  }
 ],
 "metadata": {
  "kernelspec": {
   "display_name": "Python 3",
   "language": "python",
   "name": "python3"
  },
  "language_info": {
   "codemirror_mode": {
    "name": "ipython",
    "version": 3
   },
   "file_extension": ".py",
   "mimetype": "text/x-python",
   "name": "python",
   "nbconvert_exporter": "python",
   "pygments_lexer": "ipython3",
   "version": "3.10.0"
  }
 },
 "nbformat": 4,
 "nbformat_minor": 4
}
