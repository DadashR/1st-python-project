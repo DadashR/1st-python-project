{
 "cells": [
  {
   "cell_type": "markdown",
   "metadata": {},
   "source": [
    "# U.S. Medical Insurance Costs"
   ]
  },
  {
   "cell_type": "markdown",
   "metadata": {},
   "source": [
    "Hello everyone! This is my first project using Python! In this project, I will analyze U.S. Medical Insurance Costs and organize the information. I will also analyze the data to get some interesting info about certain things. Lets begin."
   ]
  },
  {
   "cell_type": "markdown",
   "metadata": {},
   "source": [
    "First, we should import the library \"csv\"."
   ]
  },
  {
   "cell_type": "code",
   "execution_count": 5,
   "metadata": {},
   "outputs": [],
   "source": [
    "import csv"
   ]
  },
  {
   "cell_type": "markdown",
   "metadata": {},
   "source": [
    "Then, we should create a function that imports the data and sorts it into lists we create beforehand. We should also create a list that includes each row just in case we may want to test some things in the later stages."
   ]
  },
  {
   "cell_type": "code",
   "execution_count": 10,
   "metadata": {},
   "outputs": [],
   "source": [
    "age = []\n",
    "sex = []\n",
    "bmi = []\n",
    "children = []\n",
    "region = []\n",
    "charges = []\n",
    "smoker = []\n",
    "rows = []\n",
    "\n",
    "def import_information(lst, csv_file, keyname):\n",
    "    with open(csv_file, 'r') as csvfile:\n",
    "        reader = csv.DictReader(csvfile)\n",
    "        for row in reader:\n",
    "            lst.append(row[keyname])\n",
    "            rows.append(row)\n",
    "\n",
    "# This function takes a csv file, a list and a name of a column.\n",
    "# Then, it imports every value in that column into the list."
   ]
  },
  {
   "cell_type": "markdown",
   "metadata": {},
   "source": [
    "Now, we can import the values into the lists."
   ]
  },
  {
   "cell_type": "code",
   "execution_count": 7,
   "metadata": {},
   "outputs": [],
   "source": [
    "import_information(age, 'insurance.csv', 'age')\n",
    "import_information(sex, 'insurance.csv', 'sex')\n",
    "import_information(bmi, 'insurance.csv', 'bmi')\n",
    "import_information(children, 'insurance.csv', 'children')\n",
    "import_information(region, 'insurance.csv', 'region')\n",
    "import_information(charges, 'insurance.csv', 'charges')\n",
    "import_information(smoker, 'insurance.csv', 'smoker')\n"
   ]
  },
  {
   "cell_type": "markdown",
   "metadata": {},
   "source": [
    "Now, we can get to the fun part and start really analyzing things. I'm so excited! \n",
    "\n",
    "First of all, I would like to know some \"basic\" information about the database - we should get the average age of the participants in the database, how many people are from each sex*, the average BMI, how many people smoke, how many people have children, and how many are from the north and the south. For all of these, we will create six different functions. \n",
    "\n",
    "* Sadly, the database doesn't mention anything about gender, thus making it impossible to look at it as a factor. Because of that, we will focus on biological sex."
   ]
  },
  {
   "cell_type": "code",
   "execution_count": 8,
   "metadata": {},
   "outputs": [],
   "source": [
    "def calculate_average_age(age_list):\n",
    "    age_sum = 0\n",
    "    for age in age_list:\n",
    "        age_sum += int(age)\n",
    "    age_average = age_sum / len(age_list)\n",
    "    print(f'The average age in the database is {age_average}.')\n",
    "\n",
    "def amount_from_each_sex(sex_list):\n",
    "    male_count = 0\n",
    "    female_count = 0\n",
    "    for sex in sex_list:\n",
    "        if sex == 'male':\n",
    "            male_count += 1\n",
    "        elif sex == 'female':\n",
    "            female_count += 1\n",
    "    print(f'The database has {male_count} males and {female_count} females.')\n",
    "\n",
    "def calculate_average_bmi(bmi_list):\n",
    "    bmi_sum = 0\n",
    "    for bmi in bmi_list:\n",
    "        bmi_sum += float(bmi)\n",
    "    bmi_average = bmi_sum / len(bmi_list)\n",
    "    print(f'The BMI average in the database is {bmi_average}.')\n",
    "\n",
    "def amount_that_has_children(children_list):\n",
    "    has_children = 0\n",
    "    doesnt_have_children = 0\n",
    "    for info in children_list:\n",
    "        if info == '0':\n",
    "            doesnt_have_children += 1\n",
    "        else:\n",
    "            has_children += 1\n",
    "    print(f'The amount of people that have children in the database is {has_children}, and the amount that doesn\\'t is {doesnt_have_children}.')\n",
    "\n",
    "def amount_that_smoke(smoke_list):\n",
    "    smoke = 0\n",
    "    doesnt_smoke = 0\n",
    "    for info in smoke_list:\n",
    "        if info == 'no':\n",
    "            doesnt_smoke += 1\n",
    "        else:\n",
    "            smoke += 1\n",
    "    print(f'The amount of people in the database that smoke is {smoke}, and the amount that doesn\\'t smoke is {doesnt_smoke}.')\n",
    "\n",
    "def north_or_south(region_list):\n",
    "    north = 0\n",
    "    south = 0\n",
    "    for region in region_list:\n",
    "        if region[0:5] == 'north':\n",
    "            north += 1\n",
    "        elif region[0:5] == 'south':\n",
    "            south += 1\n",
    "    print(f'The amount of people from the north in the database is {north}, and the amount from the south is {south}.')"
   ]
  },
  {
   "cell_type": "markdown",
   "metadata": {},
   "source": [
    "After we have all of the info, let's print it!"
   ]
  },
  {
   "cell_type": "code",
   "execution_count": 9,
   "metadata": {},
   "outputs": [
    {
     "name": "stdout",
     "output_type": "stream",
     "text": [
      "The average age in the database is 39.20702541106129.\n",
      "The database has 676 males and 662 females.\n",
      "The BMI average in the database is 30.663396860986538.\n",
      "The amount of people that have children in the database is 764, and the amount that doesn't is 574.\n",
      "The amount of people in the database that smoke is 274, and the amount that doesn't smoke is 1064.\n",
      "The amount of people from the north in the database is 649, and the amount from the south is 689.\n"
     ]
    }
   ],
   "source": [
    "calculate_average_age(age)\n",
    "amount_from_each_sex(sex)\n",
    "calculate_average_bmi(bmi)\n",
    "amount_that_has_children(children)\n",
    "amount_that_smoke(smoker)\n",
    "north_or_south(region)"
   ]
  }
 ],
 "metadata": {
  "kernelspec": {
   "display_name": "Python 3 (ipykernel)",
   "language": "python",
   "name": "python3"
  },
  "language_info": {
   "codemirror_mode": {
    "name": "ipython",
    "version": 3
   },
   "file_extension": ".py",
   "mimetype": "text/x-python",
   "name": "python",
   "nbconvert_exporter": "python",
   "pygments_lexer": "ipython3",
   "version": "3.8.5"
  }
 },
 "nbformat": 4,
 "nbformat_minor": 4
}
